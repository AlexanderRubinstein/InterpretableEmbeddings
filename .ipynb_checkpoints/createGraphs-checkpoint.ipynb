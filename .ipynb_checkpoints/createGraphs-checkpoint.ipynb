{
 "cells": [
  {
   "cell_type": "code",
   "execution_count": 5,
   "metadata": {
    "colab": {},
    "colab_type": "code",
    "id": "_AAaTDLzAUTI"
   },
   "outputs": [],
   "source": [
    "import os\n",
    "import numpy as np\n",
    "import pandas as pd\n",
    "\n",
    "import matplotlib.pyplot as plt\n",
    "import matplotlib.mlab as mlab\n",
    "\n",
    "import seaborn as sns"
   ]
  },
  {
   "cell_type": "code",
   "execution_count": 3,
   "metadata": {
    "colab": {
     "base_uri": "https://localhost:8080/",
     "height": 382
    },
    "colab_type": "code",
    "executionInfo": {
     "elapsed": 14102,
     "status": "ok",
     "timestamp": 1576938445329,
     "user": {
      "displayName": "Александр Романович Рубинштейн",
      "photoUrl": "",
      "userId": "11109012592331712307"
     },
     "user_tz": -180
    },
    "id": "MrqpIKGkBUFJ",
    "outputId": "814e2d92-4636-4864-9afe-073a4090bbc7"
   },
   "outputs": [
    {
     "name": "stdout",
     "output_type": "stream",
     "text": [
      "Collecting docopt\n",
      "  Downloading https://files.pythonhosted.org/packages/a2/55/8f8cab2afd404cf578136ef2cc5dfb50baa1761b68c9da1fb1e4eed343c9/docopt-0.6.2.tar.gz\n",
      "Building wheels for collected packages: docopt\n",
      "  Building wheel for docopt (setup.py) ... \u001b[?25l\u001b[?25hdone\n",
      "  Created wheel for docopt: filename=docopt-0.6.2-py2.py3-none-any.whl size=13704 sha256=cc5b0fcd5d8731bd97ccab1304ae05a3e20b6dba64d2f48f7aa18b1082723c9a\n",
      "  Stored in directory: /root/.cache/pip/wheels/9b/04/dd/7daf4150b6d9b12949298737de9431a324d4b797ffd63f526e\n",
      "Successfully built docopt\n",
      "Installing collected packages: docopt\n",
      "Successfully installed docopt-0.6.2\n",
      "Collecting sparsesvd\n",
      "  Downloading https://files.pythonhosted.org/packages/65/d9/c2545987871e27cad5969799a1d45073321a2904ac4dcb18bc0f1fe16ecc/sparsesvd-0.2.2.tar.gz\n",
      "Requirement already satisfied: scipy>=0.6.0 in /usr/local/lib/python2.7/dist-packages (from sparsesvd) (1.2.2)\n",
      "Requirement already satisfied: cython in /usr/local/lib/python2.7/dist-packages (from sparsesvd) (0.29.12)\n",
      "Requirement already satisfied: numpy>=1.8.2 in /usr/local/lib/python2.7/dist-packages (from scipy>=0.6.0->sparsesvd) (1.16.4)\n",
      "Building wheels for collected packages: sparsesvd\n",
      "  Building wheel for sparsesvd (setup.py) ... \u001b[?25l\u001b[?25hdone\n",
      "  Created wheel for sparsesvd: filename=sparsesvd-0.2.2-cp27-cp27mu-linux_x86_64.whl size=165498 sha256=a04e2d5a59c2cee23772286240193d4471f44f3d90422fc4a80352bb5672329c\n",
      "  Stored in directory: /root/.cache/pip/wheels/23/17/02/81e370c9cddef7ef9e5454d71bbe8be2eafa8e84c0b7b628b1\n",
      "Successfully built sparsesvd\n",
      "Installing collected packages: sparsesvd\n",
      "Successfully installed sparsesvd-0.2.2\n"
     ]
    }
   ],
   "source": [
    "!pip install docopt\n",
    "!pip install sparsesvd"
   ]
  },
  {
   "cell_type": "code",
   "execution_count": 14,
   "metadata": {},
   "outputs": [
    {
     "name": "stdout",
     "output_type": "stream",
     "text": [
      "svd.s.npy\n",
      "svd.ut.npy\n",
      "svd.vt.npy\n",
      "svd.words.npy\n"
     ]
    }
   ],
   "source": [
    "!cd svd_output && ls"
   ]
  },
  {
   "cell_type": "code",
   "execution_count": 9,
   "metadata": {
    "colab": {},
    "colab_type": "code",
    "id": "w-gsymh5rtOn"
   },
   "outputs": [],
   "source": [
    "from hyperwords.representations.embedding import SVDEmbedding, Embedding"
   ]
  },
  {
   "cell_type": "code",
   "execution_count": 17,
   "metadata": {
    "colab": {},
    "colab_type": "code",
    "id": "PtO_T7ltru6b"
   },
   "outputs": [],
   "source": [
    "svd = SVDEmbedding('svd_output/svd', False)\n",
    "sgns = Embedding('sgns_output/sgns.words', False)"
   ]
  },
  {
   "cell_type": "markdown",
   "metadata": {
    "colab_type": "text",
    "id": "KdK21nee8DL5"
   },
   "source": [
    "Let's look if embeddings are really meaningful"
   ]
  },
  {
   "cell_type": "code",
   "execution_count": 18,
   "metadata": {
    "colab": {
     "base_uri": "https://localhost:8080/",
     "height": 121
    },
    "colab_type": "code",
    "executionInfo": {
     "elapsed": 741,
     "status": "ok",
     "timestamp": 1576938502418,
     "user": {
      "displayName": "Александр Романович Рубинштейн",
      "photoUrl": "",
      "userId": "11109012592331712307"
     },
     "user_tz": -180
    },
    "id": "v9SfnYNyrEZ6",
    "outputId": "eaa44d66-e2c5-416a-b10a-3824eb091765"
   },
   "outputs": [
    {
     "name": "stdout",
     "output_type": "stream",
     "text": [
      "['football' 'sports' 'basketball' 'soccer' 'coach' 'sport' 'v' 'player'\n",
      " 'rugby' 'tennis' 'baseball' 'league' 'club' 'athletic' 'players' 'hockey'\n",
      " 'game' 'nfl' 'team' 'manager']\n",
      "['football' 'togo' 'league' 'fa' 'afc' 'soccer' 'wembley' 'carling'\n",
      " 'stadium' 'nfl' 'tottenham' 'rugby' 'fifa' 'angola' 'championship'\n",
      " 'kick-off' 'wanderers' 'everton' 'capello' 'cabinda']\n"
     ]
    }
   ],
   "source": [
    "w = 'football'\n",
    "\n",
    "nns = np.array(svd.closest(w, 20))\n",
    "print(nns[:,1])\n",
    "nns = np.array(sgns.closest(w, 20))\n",
    "print(nns[:,1])"
   ]
  },
  {
   "cell_type": "markdown",
   "metadata": {
    "colab_type": "text",
    "id": "5nyVf3HBLMWl"
   },
   "source": [
    "We can plot histograms by some components in order to see which of them are biased. "
   ]
  },
  {
   "cell_type": "code",
   "execution_count": 19,
   "metadata": {
    "colab": {
     "base_uri": "https://localhost:8080/",
     "height": 850
    },
    "colab_type": "code",
    "executionInfo": {
     "elapsed": 1452,
     "status": "ok",
     "timestamp": 1576948293793,
     "user": {
      "displayName": "Александр Романович Рубинштейн",
      "photoUrl": "",
      "userId": "11109012592331712307"
     },
     "user_tz": -180
    },
    "id": "trxKqcdQGlNq",
    "outputId": "a99fcfd6-540d-4bcc-e3a1-ef152c379a90"
   },
   "outputs": [
    {
     "name": "stderr",
     "output_type": "stream",
     "text": [
      "c:\\users\\alexander\\anaconda3\\envs\\py2\\lib\\site-packages\\ipykernel_launcher.py:10: MatplotlibDeprecationWarning: scipy.stats.norm.pdf\n",
      "  # Remove the CWD from sys.path while we load stuff.\n"
     ]
    },
    {
     "data": {
      "image/png": "[encoded data removed]",
      "text/plain": [
       "<Figure size 432x288 with 1 Axes>"
      ]
     },
     "metadata": {
      "needs_background": "light"
     },
     "output_type": "display_data"
    },
    {
     "data": {
      "image/png": "[encoded data removed]",
      "text/plain": [
       "<Figure size 432x288 with 1 Axes>"
      ]
     },
     "metadata": {
      "needs_background": "light"
     },
     "output_type": "display_data"
    },
    {
     "data": {
      "image/png": "[encoded data removed]",
      "text/plain": [
       "<Figure size 432x288 with 1 Axes>"
      ]
     },
     "metadata": {
      "needs_background": "light"
     },
     "output_type": "display_data"
    }
   ],
   "source": [
    "for i in range(3):\n",
    "    mu = np.mean(svd.m[:, i])\n",
    "    sigma = np.std(svd.m[:, i])\n",
    "    x = np.linspace(mu - 3*sigma, mu + 3*sigma, 100)\n",
    "\n",
    "    # plt.xlim((-0.2, 0.2))\n",
    "    plt.title('{}-th component of U matrix, SVD'.format(i+1), fontsize=15)\n",
    "    plt.grid(True)\n",
    "    sns.distplot(svd.m[:, i], kde=False, norm_hist=True)\n",
    "    plt.plot(x,mlab.normpdf(x, mu, sigma))\n",
    "    # plt.savefig('svd_{}.png'.format(i+1), format='png',dpi=300)\n",
    "    plt.show()"
   ]
  },
  {
   "cell_type": "markdown",
   "metadata": {
    "colab_type": "text",
    "id": "byYVMu3aLZZ3"
   },
   "source": [
    "So, as expected, first components have bias. Note that the sign is not meaningful, as the opposite sign could be in V matrix of SVD decomposition."
   ]
  },
  {
   "cell_type": "code",
   "execution_count": 20,
   "metadata": {
    "colab": {
     "base_uri": "https://localhost:8080/",
     "height": 850
    },
    "colab_type": "code",
    "executionInfo": {
     "elapsed": 1598,
     "status": "ok",
     "timestamp": 1576948333129,
     "user": {
      "displayName": "Александр Романович Рубинштейн",
      "photoUrl": "",
      "userId": "11109012592331712307"
     },
     "user_tz": -180
    },
    "id": "sk_OawmlY5Hs",
    "outputId": "0f690109-a0a2-4e1d-b163-f04cd528faea"
   },
   "outputs": [
    {
     "name": "stderr",
     "output_type": "stream",
     "text": [
      "c:\\users\\alexander\\anaconda3\\envs\\py2\\lib\\site-packages\\ipykernel_launcher.py:10: MatplotlibDeprecationWarning: scipy.stats.norm.pdf\n",
      "  # Remove the CWD from sys.path while we load stuff.\n"
     ]
    },
    {
     "data": {
      "image/png": "[encoded data removed]",
      "text/plain": [
       "<Figure size 432x288 with 1 Axes>"
      ]
     },
     "metadata": {
      "needs_background": "light"
     },
     "output_type": "display_data"
    },
    {
     "data": {
      "image/png": "[encoded data removed]",
      "text/plain": [
       "<Figure size 432x288 with 1 Axes>"
      ]
     },
     "metadata": {
      "needs_background": "light"
     },
     "output_type": "display_data"
    },
    {
     "data": {
      "image/png": "[encoded data removed]",
      "text/plain": [
       "<Figure size 432x288 with 1 Axes>"
      ]
     },
     "metadata": {
      "needs_background": "light"
     },
     "output_type": "display_data"
    }
   ],
   "source": [
    "for i in range(2, -1, -1):\n",
    "    mu = np.mean(svd.m[:, -1-i])\n",
    "    sigma = np.std(svd.m[:, -1-i])\n",
    "    x = np.linspace(mu - 3*sigma, mu + 3*sigma, 100)\n",
    "\n",
    "    # plt.xlim((-0.2, 0.2))\n",
    "    plt.title('{}-th component of U matrix, SVD'.format(499-i), fontsize=15)\n",
    "    plt.grid(True)\n",
    "    sns.distplot(svd.m[:, -1-i], kde=False, norm_hist=True)\n",
    "    plt.plot(x,mlab.normpdf(x, mu, sigma))\n",
    "    # plt.savefig('svd_{}.png'.format(i+1), format='png',dpi=300)\n",
    "    plt.show()"
   ]
  },
  {
   "cell_type": "markdown",
   "metadata": {
    "colab_type": "text",
    "id": "C2K6wKxG8RR-"
   },
   "source": [
    "Now we can show top words by some components, e.g. for the first 30.\n",
    "Let's check if the have common meaning"
   ]
  },
  {
   "cell_type": "code",
   "execution_count": 21,
   "metadata": {
    "colab": {
     "base_uri": "https://localhost:8080/",
     "height": 712
    },
    "colab_type": "code",
    "executionInfo": {
     "elapsed": 1164,
     "status": "ok",
     "timestamp": 1576938542543,
     "user": {
      "displayName": "Александр Романович Рубинштейн",
      "photoUrl": "",
      "userId": "11109012592331712307"
     },
     "user_tz": -180
    },
    "id": "aShRnCNsxiyX",
    "outputId": "b537f6b0-3e94-4632-f124-307bf6859706"
   },
   "outputs": [
    {
     "name": "stdout",
     "output_type": "stream",
     "text": [
      "dim: 0\n",
      "0.030\t0.026\t0.026\t0.024\t0.023\t0.023\t0.023\t0.022\t0.022\t0.021\n",
      "whose\tand\tincluding\twho\tdr\tor\tsays\tby\tinclude\twhile\n",
      "\n",
      "dim: 1\n",
      "0.051\t0.050\t0.049\t0.048\t0.047\t0.046\t0.045\t0.045\t0.044\t0.043\n",
      "dr\tj\tjohn\tmichael\tdavid\tjames\tdirector\tsaid\tpaul\tl\n",
      "\n",
      "dim: 2\n",
      "0.055\t0.052\t0.049\t0.049\t0.048\t0.046\t0.045\t0.045\t0.044\t0.043\n",
      "says\twhose\tmr\tand\tsaid\tincluding\tcalled\twhile\twho\ttold\n",
      "\n",
      "dim: 3\n",
      "0.029\t0.028\t0.026\t0.026\t0.025\t0.025\t0.025\t0.024\t0.024\t0.024\n",
      "sometimes\tstyle\ther\toften\tquite\tlike\tbeautiful\tcharacter\tmy\tpretty\n",
      "\n",
      "dim: 4\n",
      "0.041\t0.040\t0.039\t0.037\t0.037\t0.037\t0.037\t0.036\t0.035\t0.035\n",
      "red\tpink\tblue\tcream\tchicken\tplastic\tblack\tleather\tcheese\thot\n",
      "\n",
      "dim: 5\n",
      "0.043\t0.043\t0.043\t0.042\t0.042\t0.041\t0.038\t0.037\t0.037\t0.036\n",
      "technology\tsoftware\tdirector\tsolutions\tdr\tproducts\ttechnologies\tsystems\tdigital\tdesign\n",
      "\n",
      "dim: 6\n",
      "0.058\t0.046\t0.036\t0.035\t0.035\t0.034\t0.034\t0.033\t0.033\t0.033\n",
      "near\tnearby\twhere\thotel\tdowntown\toutside\ttown\tsouthern\tnorthern\tcity\n",
      "\n",
      "dim: 7\n",
      "0.055\t0.054\t0.052\t0.040\t0.040\t0.040\t0.039\t0.039\t0.038\t0.038\n",
      "victory\twin\tbeat\tgame\tdefeat\t2-1\twon\t6-3\twinning\t6-2\n",
      "\n",
      "dim: 8\n",
      "0.037\t0.035\t0.035\t0.031\t0.029\t0.029\t0.029\t0.029\t0.027\t0.027\n",
      "scored\tbeat\twater\tcausing\tsystems\tcaused\tdisease\tprevent\tblood\tskin\n",
      "\n",
      "dim: 9\n",
      "0.049\t0.046\t0.041\t0.039\t0.038\t0.037\t0.035\t0.035\t0.033\t0.033\n",
      "said\ttold\twhose\tsays\tgave\tjoined\tbeat\tscored\twon\ttook\n",
      "\n"
     ]
    }
   ],
   "source": [
    "words_to_show = 10\n",
    "svd_ix2word = np.array(svd.iw)\n",
    "for dimension in range(0,10):\n",
    "    curr_ixs = np.argsort(svd.m[:, dimension])[::-1][:words_to_show]\n",
    "    curr_words = svd_ix2word[curr_ixs]\n",
    "    curr_values = svd.m[:, dimension][curr_ixs]\n",
    "\n",
    "    print('dim: {}'.format(dimension))\n",
    "    print('\\t'.join(['{0:.3f}'.format(elem) for elem in curr_values]))\n",
    "    print('\\t'.join(curr_words) + '\\n')\n"
   ]
  },
  {
   "cell_type": "markdown",
   "metadata": {
    "colab_type": "text",
    "id": "JZzRTaF18k4S"
   },
   "source": [
    "Many of them really have! Let's store the most meaningful dimensions into dictionary."
   ]
  },
  {
   "cell_type": "code",
   "execution_count": 22,
   "metadata": {
    "colab": {},
    "colab_type": "code",
    "id": "314HKXfj3srz"
   },
   "outputs": [],
   "source": [
    "dim_to_meanings = {12: 'food', 18: 'football', 20: 'crime', 27: 'adverbs', \n",
    "                   28: 'names', 42: 'languages', 55: 'music', 95: 'pain', 127: 'baseball', 263: 'cinema'}\n",
    "meanings_to_dims = {k: v for (v, k) in dim_to_meanings.items()}"
   ]
  },
  {
   "cell_type": "code",
   "execution_count": 23,
   "metadata": {
    "colab": {
     "base_uri": "https://localhost:8080/",
     "height": 238
    },
    "colab_type": "code",
    "executionInfo": {
     "elapsed": 966,
     "status": "ok",
     "timestamp": 1576938551335,
     "user": {
      "displayName": "Александр Романович Рубинштейн",
      "photoUrl": "",
      "userId": "11109012592331712307"
     },
     "user_tz": -180
    },
    "id": "s_3gjEozZTya",
    "outputId": "4b7304bc-1b10-4f3d-eea8-7c79b93bf0ba"
   },
   "outputs": [
    {
     "data": {
      "text/html": [
       "<div>\n",
       "<style scoped>\n",
       "    .dataframe tbody tr th:only-of-type {\n",
       "        vertical-align: middle;\n",
       "    }\n",
       "\n",
       "    .dataframe tbody tr th {\n",
       "        vertical-align: top;\n",
       "    }\n",
       "\n",
       "    .dataframe thead th {\n",
       "        text-align: right;\n",
       "    }\n",
       "</style>\n",
       "<table border=\"1\" class=\"dataframe\">\n",
       "  <thead>\n",
       "    <tr style=\"text-align: right;\">\n",
       "      <th></th>\n",
       "      <th>cinema\n",
       "(dim: 263)</th>\n",
       "      <th>football\n",
       "(dim: 18)</th>\n",
       "      <th>crime\n",
       "(dim: 20)</th>\n",
       "      <th>music\n",
       "(dim: 55)</th>\n",
       "      <th>baseball\n",
       "(dim: 127)</th>\n",
       "      <th>names\n",
       "(dim: 28)</th>\n",
       "      <th>languages\n",
       "(dim: 42)</th>\n",
       "      <th>adverbs\n",
       "(dim: 27)</th>\n",
       "      <th>food\n",
       "(dim: 12)</th>\n",
       "      <th>pain\n",
       "(dim: 95)</th>\n",
       "    </tr>\n",
       "  </thead>\n",
       "  <tbody>\n",
       "    <tr>\n",
       "      <th>0</th>\n",
       "      <td>actress</td>\n",
       "      <td>midfielder</td>\n",
       "      <td>alleged</td>\n",
       "      <td>songs</td>\n",
       "      <td>pitcher</td>\n",
       "      <td>mr</td>\n",
       "      <td>french</td>\n",
       "      <td>extremely</td>\n",
       "      <td>salad</td>\n",
       "      <td>suffered</td>\n",
       "    </tr>\n",
       "    <tr>\n",
       "      <th>1</th>\n",
       "      <td>spokeswoman</td>\n",
       "      <td>striker</td>\n",
       "      <td>charges</td>\n",
       "      <td>singer</td>\n",
       "      <td>swann</td>\n",
       "      <td>john</td>\n",
       "      <td>de</td>\n",
       "      <td>incredibly</td>\n",
       "      <td>cheese</td>\n",
       "      <td>pain</td>\n",
       "    </tr>\n",
       "    <tr>\n",
       "      <th>2</th>\n",
       "      <td>starring</td>\n",
       "      <td>min</td>\n",
       "      <td>allegedly</td>\n",
       "      <td>singing</td>\n",
       "      <td>yankees</td>\n",
       "      <td>david</td>\n",
       "      <td>german</td>\n",
       "      <td>somewhat</td>\n",
       "      <td>chicken</td>\n",
       "      <td>sexual</td>\n",
       "    </tr>\n",
       "    <tr>\n",
       "      <th>3</th>\n",
       "      <td>star</td>\n",
       "      <td>defender</td>\n",
       "      <td>charged</td>\n",
       "      <td>sang</td>\n",
       "      <td>collingwood</td>\n",
       "      <td>michael</td>\n",
       "      <td>italian</td>\n",
       "      <td>very</td>\n",
       "      <td>eating</td>\n",
       "      <td>deep</td>\n",
       "    </tr>\n",
       "    <tr>\n",
       "      <th>4</th>\n",
       "      <td>director</td>\n",
       "      <td>captain</td>\n",
       "      <td>criminal</td>\n",
       "      <td>music</td>\n",
       "      <td>pietersen</td>\n",
       "      <td>ms</td>\n",
       "      <td>spanish</td>\n",
       "      <td>slightly</td>\n",
       "      <td>sauce</td>\n",
       "      <td>suffering</td>\n",
       "    </tr>\n",
       "    <tr>\n",
       "      <th>5</th>\n",
       "      <td>photos</td>\n",
       "      <td>goalkeeper</td>\n",
       "      <td>murder</td>\n",
       "      <td>jazz</td>\n",
       "      <td>baseball</td>\n",
       "      <td>richard</td>\n",
       "      <td>japanese</td>\n",
       "      <td>pretty</td>\n",
       "      <td>garlic</td>\n",
       "      <td>injury</td>\n",
       "    </tr>\n",
       "  </tbody>\n",
       "</table>\n",
       "</div>"
      ],
      "text/plain": [
       "  cinema\\n(dim: 263) football\\n(dim: 18) crime\\n(dim: 20) music\\n(dim: 55)  \\\n",
       "0            actress          midfielder          alleged            songs   \n",
       "1        spokeswoman             striker          charges           singer   \n",
       "2           starring                 min        allegedly          singing   \n",
       "3               star            defender          charged             sang   \n",
       "4           director             captain         criminal            music   \n",
       "5             photos          goalkeeper           murder             jazz   \n",
       "\n",
       "  baseball\\n(dim: 127) names\\n(dim: 28) languages\\n(dim: 42)  \\\n",
       "0              pitcher               mr               french   \n",
       "1                swann             john                   de   \n",
       "2              yankees            david               german   \n",
       "3          collingwood          michael              italian   \n",
       "4            pietersen               ms              spanish   \n",
       "5             baseball          richard             japanese   \n",
       "\n",
       "  adverbs\\n(dim: 27) food\\n(dim: 12) pain\\n(dim: 95)  \n",
       "0          extremely           salad        suffered  \n",
       "1         incredibly          cheese            pain  \n",
       "2           somewhat         chicken          sexual  \n",
       "3               very          eating            deep  \n",
       "4           slightly           sauce       suffering  \n",
       "5             pretty          garlic          injury  "
      ]
     },
     "execution_count": 23,
     "metadata": {},
     "output_type": "execute_result"
    }
   ],
   "source": [
    "raw_df_columns = list(dim_to_meanings.values())\n",
    "df_columns = [[] for _ in range(len(raw_df_columns))]\n",
    "for i in range(len(raw_df_columns)):\n",
    "    df_columns[i] = raw_df_columns[i] + '{}(dim: {})'.format('\\n', meanings_to_dims[raw_df_columns[i]])\n",
    "\n",
    "df_to_show = pd.DataFrame(columns=df_columns)\n",
    "\n",
    "for ix, column in enumerate(df_to_show.columns):\n",
    "\n",
    "    curr_ixs = np.argsort(svd.m[:, meanings_to_dims[raw_df_columns[ix]]])[::-1][:6]\n",
    "    words = svd_ix2word[curr_ixs]\n",
    "    df_to_show[column] = words\n",
    "df_to_show"
   ]
  },
  {
   "cell_type": "code",
   "execution_count": 24,
   "metadata": {
    "colab": {
     "base_uri": "https://localhost:8080/",
     "height": 238
    },
    "colab_type": "code",
    "executionInfo": {
     "elapsed": 782,
     "status": "ok",
     "timestamp": 1576938552632,
     "user": {
      "displayName": "Александр Романович Рубинштейн",
      "photoUrl": "",
      "userId": "11109012592331712307"
     },
     "user_tz": -180
    },
    "id": "ilBviR7YmQfP",
    "outputId": "ad68181c-3384-4ca6-f200-377ee9e5717e"
   },
   "outputs": [
    {
     "data": {
      "text/html": [
       "<div>\n",
       "<style scoped>\n",
       "    .dataframe tbody tr th:only-of-type {\n",
       "        vertical-align: middle;\n",
       "    }\n",
       "\n",
       "    .dataframe tbody tr th {\n",
       "        vertical-align: top;\n",
       "    }\n",
       "\n",
       "    .dataframe thead th {\n",
       "        text-align: right;\n",
       "    }\n",
       "</style>\n",
       "<table border=\"1\" class=\"dataframe\">\n",
       "  <thead>\n",
       "    <tr style=\"text-align: right;\">\n",
       "      <th></th>\n",
       "      <th>crime\n",
       "(dim: 20)</th>\n",
       "      <th>music\n",
       "(dim: 55)</th>\n",
       "      <th>baseball\n",
       "(dim: 127)</th>\n",
       "      <th>languages\n",
       "(dim: 42)</th>\n",
       "      <th>adverbs\n",
       "(dim: 27)</th>\n",
       "      <th>food\n",
       "(dim: 12)</th>\n",
       "    </tr>\n",
       "  </thead>\n",
       "  <tbody>\n",
       "    <tr>\n",
       "      <th>0</th>\n",
       "      <td>alleged</td>\n",
       "      <td>songs</td>\n",
       "      <td>pitcher</td>\n",
       "      <td>french</td>\n",
       "      <td>extremely</td>\n",
       "      <td>salad</td>\n",
       "    </tr>\n",
       "    <tr>\n",
       "      <th>1</th>\n",
       "      <td>charges</td>\n",
       "      <td>singer</td>\n",
       "      <td>swann</td>\n",
       "      <td>de</td>\n",
       "      <td>incredibly</td>\n",
       "      <td>cheese</td>\n",
       "    </tr>\n",
       "    <tr>\n",
       "      <th>2</th>\n",
       "      <td>allegedly</td>\n",
       "      <td>singing</td>\n",
       "      <td>yankees</td>\n",
       "      <td>german</td>\n",
       "      <td>somewhat</td>\n",
       "      <td>chicken</td>\n",
       "    </tr>\n",
       "    <tr>\n",
       "      <th>3</th>\n",
       "      <td>charged</td>\n",
       "      <td>sang</td>\n",
       "      <td>collingwood</td>\n",
       "      <td>italian</td>\n",
       "      <td>very</td>\n",
       "      <td>eating</td>\n",
       "    </tr>\n",
       "    <tr>\n",
       "      <th>4</th>\n",
       "      <td>criminal</td>\n",
       "      <td>music</td>\n",
       "      <td>pietersen</td>\n",
       "      <td>spanish</td>\n",
       "      <td>slightly</td>\n",
       "      <td>sauce</td>\n",
       "    </tr>\n",
       "    <tr>\n",
       "      <th>5</th>\n",
       "      <td>murder</td>\n",
       "      <td>jazz</td>\n",
       "      <td>baseball</td>\n",
       "      <td>japanese</td>\n",
       "      <td>pretty</td>\n",
       "      <td>garlic</td>\n",
       "    </tr>\n",
       "  </tbody>\n",
       "</table>\n",
       "</div>"
      ],
      "text/plain": [
       "  crime\\n(dim: 20) music\\n(dim: 55) baseball\\n(dim: 127) languages\\n(dim: 42)  \\\n",
       "0          alleged            songs              pitcher               french   \n",
       "1          charges           singer                swann                   de   \n",
       "2        allegedly          singing              yankees               german   \n",
       "3          charged             sang          collingwood              italian   \n",
       "4         criminal            music            pietersen              spanish   \n",
       "5           murder             jazz             baseball             japanese   \n",
       "\n",
       "  adverbs\\n(dim: 27) food\\n(dim: 12)  \n",
       "0          extremely           salad  \n",
       "1         incredibly          cheese  \n",
       "2           somewhat         chicken  \n",
       "3               very          eating  \n",
       "4           slightly           sauce  \n",
       "5             pretty          garlic  "
      ]
     },
     "execution_count": 24,
     "metadata": {},
     "output_type": "execute_result"
    }
   ],
   "source": [
    "df_to_show.iloc[:, [2, 3, 4, 6, 7, 8]]"
   ]
  },
  {
   "cell_type": "markdown",
   "metadata": {
    "colab_type": "text",
    "id": "Mlq5f8OHqLIO"
   },
   "source": [
    "Now we can plot heatmap to compare SVD and SGNS approaches."
   ]
  },
  {
   "cell_type": "code",
   "execution_count": 25,
   "metadata": {
    "colab": {
     "base_uri": "https://localhost:8080/",
     "height": 633
    },
    "colab_type": "code",
    "executionInfo": {
     "elapsed": 1155,
     "status": "ok",
     "timestamp": 1576948410392,
     "user": {
      "displayName": "Александр Романович Рубинштейн",
      "photoUrl": "",
      "userId": "11109012592331712307"
     },
     "user_tz": -180
    },
    "id": "LQoLADhyiNGV",
    "outputId": "d997bd2e-c3b1-49bb-b05b-f2e195a0479b"
   },
   "outputs": [
    {
     "data": {
      "image/png": "[encoded data removed]",
      "text/plain": [
       "<Figure size 576x432 with 2 Axes>"
      ]
     },
     "metadata": {
      "needs_background": "light"
     },
     "output_type": "display_data"
    },
    {
     "data": {
      "image/png": "[encoded data removed]",
      "text/plain": [
       "<Figure size 576x432 with 2 Axes>"
      ]
     },
     "metadata": {
      "needs_background": "light"
     },
     "output_type": "display_data"
    }
   ],
   "source": [
    "# words = np.array(svd.closest(w, 4))[:,1]\n",
    "# presidents = ['president','commissioner','minister','superintendent','chairman']\n",
    "words = ['salad','cheese', 'chicken', 'garlic']\n",
    "\n",
    "taken_components = np.arange(300)\n",
    "\n",
    "words_svd = np.array(list(map(lambda w: svd.m[svd.wi[w]][taken_components], words)))\n",
    "words_sgns = np.array(list(map(lambda w: sgns.m[sgns.wi[w]][taken_components], words)))\n",
    "\n",
    "plt.figure(figsize=(8, 6))\n",
    "plt.title('SVD heatmap for selected words', fontsize=15)\n",
    "ax = sns.heatmap(words_svd, cmap='RdBu_r', center=0, xticklabels=0)\n",
    "# ax = sns.heatmap(words_svd, cmap=sns.diverging_palette(0, 255, sep=32, n=256), center=0, xticklabels=0)\n",
    "plt.subplots_adjust(left=0, right=1, top=0.86, bottom=0.23)\n",
    "ax.set_yticklabels(words,rotation='horizontal',fontsize=12)\n",
    "plt.show()\n",
    "\n",
    "\n",
    "plt.figure(figsize=(8, 6))\n",
    "plt.title('SGNS heatmap for selected words', fontsize=15)\n",
    "ax = sns.heatmap(words_sgns, cmap='RdBu_r', center=0, xticklabels=0)\n",
    "# ax = sns.heatmap(words_sgns, cmap=sns.diverging_palette(0, 255, sep=32, n=256), center=0, xticklabels=0)\n",
    "plt.subplots_adjust(left=0, right=1, top=0.86, bottom=0.23)\n",
    "ax.set_yticklabels(words,rotation='horizontal',fontsize=12)\n",
    "plt.show()\n"
   ]
  },
  {
   "cell_type": "code",
   "execution_count": 26,
   "metadata": {
    "colab": {
     "base_uri": "https://localhost:8080/",
     "height": 537
    },
    "colab_type": "code",
    "executionInfo": {
     "elapsed": 1002,
     "status": "ok",
     "timestamp": 1576948546620,
     "user": {
      "displayName": "Александр Романович Рубинштейн",
      "photoUrl": "",
      "userId": "11109012592331712307"
     },
     "user_tz": -180
    },
    "id": "M90c3eJ7-MMN",
    "outputId": "88f7a335-592b-4ae1-b7fa-e0100370aabf"
   },
   "outputs": [
    {
     "data": {
      "text/plain": [
       "Text(0,0.5,'normaed eigenvalue magnitude (logscale)')"
      ]
     },
     "execution_count": 26,
     "metadata": {},
     "output_type": "execute_result"
    },
    {
     "data": {
      "image/png": "[encoded data removed]",
      "text/plain": [
       "<Figure size 720x576 with 1 Axes>"
      ]
     },
     "metadata": {
      "needs_background": "light"
     },
     "output_type": "display_data"
    }
   ],
   "source": [
    "\n",
    "plt.figure(figsize=(10, 8))\n",
    "plt.title('Eigenvalues magnitude from its number', fontsize=15)\n",
    "plt.semilogy(svd.s/svd.s[0])\n",
    "plt.xlabel('eigenvalue number', fontsize=15)\n",
    "plt.ylabel('normaed eigenvalue magnitude (logscale)', fontsize=15)\n"
   ]
  },
  {
   "cell_type": "code",
   "execution_count": null,
   "metadata": {
    "colab": {},
    "colab_type": "code",
    "id": "hX7a4BFNKqT-"
   },
   "outputs": [],
   "source": []
  }
 ],
 "metadata": {
  "colab": {
   "collapsed_sections": [],
   "name": "ColabPython2Flex.ipynb",
   "provenance": []
  },
  "kernelspec": {
   "display_name": "Python 2",
   "language": "python",
   "name": "python2"
  },
  "language_info": {
   "codemirror_mode": {
    "name": "ipython",
    "version": 2
   },
   "file_extension": ".py",
   "mimetype": "text/x-python",
   "name": "python",
   "nbconvert_exporter": "python",
   "pygments_lexer": "ipython2",
   "version": "2.7.17"
  }
 },
 "nbformat": 4,
 "nbformat_minor": 1
}
